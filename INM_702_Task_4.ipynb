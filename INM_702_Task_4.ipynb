{
  "cells": [
    {
      "cell_type": "code",
      "source": [
        "#Importing Libraries\n",
        "import torch\n",
        "import torchvision\n",
        "import numpy as np\n",
        "import matplotlib.pyplot as plt\n",
        "import torch.nn as nn\n",
        "import torch.nn.functional as F\n",
        "from torchvision import datasets\n",
        "from torchvision.datasets import CIFAR10\n",
        "import torchvision.transforms as transforms\n",
        "from torchvision.transforms import ToTensor\n",
        "from torch.utils.data.sampler import SubsetRandomSampler\n",
        "from torchvision.utils import make_grid\n",
        "from torch.utils.data.dataloader import DataLoader\n",
        "from torch.utils.data import random_split\n",
        "%matplotlib inline"
      ],
      "metadata": {
        "id": "sRdjOYGV_cb-"
      },
      "id": "sRdjOYGV_cb-",
      "execution_count": 1,
      "outputs": []
    },
    {
      "cell_type": "code",
      "source": [
        "#Importaing Dataset\n",
        "transform = transforms.Compose([transforms.ToTensor(), transforms.Normalize((0.5, 0.5, 0.5), (0.5, 0.5, 0.5))])\n",
        "\n",
        "train_set = CIFAR10(root='data/', download=True, transform=transform)\n",
        "test_set = CIFAR10(root='data/', train=False, transform=transform)"
      ],
      "metadata": {
        "colab": {
          "base_uri": "https://localhost:8080/"
        },
        "id": "PaxEDpk-Mbq3",
        "outputId": "3f2e98d9-0d39-450c-8c90-5c506bf1f86d"
      },
      "id": "PaxEDpk-Mbq3",
      "execution_count": 2,
      "outputs": [
        {
          "output_type": "stream",
          "name": "stdout",
          "text": [
            "Files already downloaded and verified\n"
          ]
        }
      ]
    },
    {
      "cell_type": "markdown",
      "source": [
        "## Data Analysis"
      ],
      "metadata": {
        "id": "pNn2NC9-M1dk"
      },
      "id": "pNn2NC9-M1dk"
    },
    {
      "cell_type": "code",
      "source": [
        "#Inspecting training dataset\n",
        "size_trainset = len(train_set)\n",
        "print(f\"Length of training dataset is {size_trainset}\")\n",
        "\n",
        "#Inspecting testing dataset\n",
        "size_testset = len(test_set)\n",
        "print(f\"Length of testing dataset is {size_testset}\")"
      ],
      "metadata": {
        "colab": {
          "base_uri": "https://localhost:8080/"
        },
        "id": "KNmQxiA8M9es",
        "outputId": "784350df-119c-41db-fc17-5f74b4cdf155"
      },
      "id": "KNmQxiA8M9es",
      "execution_count": 3,
      "outputs": [
        {
          "output_type": "stream",
          "name": "stdout",
          "text": [
            "Length of training dataset is 50000\n",
            "Length of testing dataset is 10000\n"
          ]
        }
      ]
    },
    {
      "cell_type": "code",
      "source": [
        "#Inspecting output classes\n",
        "classes = train_set.classes\n",
        "classes"
      ],
      "metadata": {
        "id": "D-E80gLjNXmq",
        "colab": {
          "base_uri": "https://localhost:8080/"
        },
        "outputId": "7a72bae7-31ee-4d20-e6cd-1bfb46c8595a"
      },
      "id": "D-E80gLjNXmq",
      "execution_count": 4,
      "outputs": [
        {
          "output_type": "execute_result",
          "data": {
            "text/plain": [
              "['airplane',\n",
              " 'automobile',\n",
              " 'bird',\n",
              " 'cat',\n",
              " 'deer',\n",
              " 'dog',\n",
              " 'frog',\n",
              " 'horse',\n",
              " 'ship',\n",
              " 'truck']"
            ]
          },
          "metadata": {},
          "execution_count": 4
        }
      ]
    },
    {
      "cell_type": "code",
      "source": [
        "total_classes = len(classes)\n",
        "print(f\"Total number of output classes are {total_classes} \")"
      ],
      "metadata": {
        "colab": {
          "base_uri": "https://localhost:8080/"
        },
        "id": "5HEugNqsO3D9",
        "outputId": "0250ca82-40de-49fe-c3ea-2ffb4817acb2"
      },
      "id": "5HEugNqsO3D9",
      "execution_count": 5,
      "outputs": [
        {
          "output_type": "stream",
          "name": "stdout",
          "text": [
            "Total number of output classes are 10 \n"
          ]
        }
      ]
    },
    {
      "cell_type": "code",
      "source": [
        "#Identifying shape of image tensor\n",
        "image, label = train_set[0]\n",
        "image_shape = image.shape\n",
        "image_shape"
      ],
      "metadata": {
        "colab": {
          "base_uri": "https://localhost:8080/"
        },
        "id": "Q0_eDnTwPQr3",
        "outputId": "7b072c63-2b09-46a2-bd90-daed335c7d37"
      },
      "id": "Q0_eDnTwPQr3",
      "execution_count": 6,
      "outputs": [
        {
          "output_type": "execute_result",
          "data": {
            "text/plain": [
              "torch.Size([3, 32, 32])"
            ]
          },
          "metadata": {},
          "execution_count": 6
        }
      ]
    },
    {
      "cell_type": "code",
      "source": [
        "#As imshow expects images to be structured as (rows, columns, channels) values for RGB data\n",
        "#We will rearrange original image tensor according to the desired ordering \n",
        "image, label = train_set[6]\n",
        "plt.imshow(image.permute((1, 2, 0)))\n",
        "print('Label id:', label)\n",
        "print('Label (corresponding text):', classes[label])"
      ],
      "metadata": {
        "colab": {
          "base_uri": "https://localhost:8080/",
          "height": 317
        },
        "id": "_E_eSLVkQkZU",
        "outputId": "676205e5-cf1a-47ea-8deb-19018b65cc14"
      },
      "id": "_E_eSLVkQkZU",
      "execution_count": 7,
      "outputs": [
        {
          "output_type": "stream",
          "name": "stderr",
          "text": [
            "Clipping input data to the valid range for imshow with RGB data ([0..1] for floats or [0..255] for integers).\n"
          ]
        },
        {
          "output_type": "stream",
          "name": "stdout",
          "text": [
            "Label id: 2\n",
            "Label (corresponding text): bird\n"
          ]
        },
        {
          "output_type": "display_data",
          "data": {
            "image/png": "[encoded data removed]",
            "text/plain": [
              "<Figure size 432x288 with 1 Axes>"
            ]
          },
          "metadata": {
            "needs_background": "light"
          }
        }
      ]
    },
    {
      "cell_type": "markdown",
      "source": [
        "## Preparing data for processing"
      ],
      "metadata": {
        "id": "WBgeNVDxIzqt"
      },
      "id": "WBgeNVDxIzqt"
    },
    {
      "cell_type": "code",
      "source": [
        "# percentage of training set to use as validation\n",
        "size_val = 0.2\n",
        "\n",
        "# obtain training indices that will be used for validation\n",
        "size_trainset = len(train_set)\n",
        "indices = list(range(size_trainset))\n",
        "np.random.shuffle(indices)\n",
        "split = int(np.floor(size_val * size_trainset))\n",
        "train_idx, valid_idx = indices[split:], indices[:split]\n",
        "\n",
        "# defining sampler\n",
        "train_sampler = SubsetRandomSampler(train_idx)\n",
        "valid_sampler = SubsetRandomSampler(valid_idx)\n",
        "\n",
        "#loading training data for cnn in batches using DataLoader\n",
        "train_loader_cnn = torch.utils.data.DataLoader(train_set, batch_size=20, sampler=train_sampler, num_workers=0)\n",
        "valid_loader_cnn = torch.utils.data.DataLoader(train_set, batch_size=20, sampler=valid_sampler, num_workers=0)\n",
        "test_loader_cnn = torch.utils.data.DataLoader(test_set, batch_size=10000, num_workers=0)"
      ],
      "metadata": {
        "id": "RFaPusM7I-sY"
      },
      "id": "RFaPusM7I-sY",
      "execution_count": 8,
      "outputs": []
    },
    {
      "cell_type": "code",
      "source": [
        "#loading training data for ann in batches using DataLoader\n",
        "#setting seed to 80 for generating random numbers\n",
        "torch.manual_seed(80)\n",
        "train_loader = DataLoader(train_set, batch_size=100, shuffle=True)\n",
        "test_loader = DataLoader(test_set, batch_size=500, shuffle=False)"
      ],
      "metadata": {
        "id": "CT_CgZGiRLJq"
      },
      "id": "CT_CgZGiRLJq",
      "execution_count": 9,
      "outputs": []
    },
    {
      "cell_type": "markdown",
      "source": [
        "# Building ANN Model\n"
      ],
      "metadata": {
        "id": "cq7xMC8ErSnr"
      },
      "id": "cq7xMC8ErSnr"
    },
    {
      "cell_type": "code",
      "source": [
        "class ANN(nn.Module):\n",
        "    #We need to flatten the input size before feeding it to neural network\n",
        "    def __init__(self, input_size=3*32*32, output_size=10):\n",
        "        super().__init__()\n",
        "        self._to_linear = None    \n",
        "        self.fc1 = nn.Linear(input_size, 120)\n",
        "        self.fc2 = nn.Linear(120, 84)\n",
        "        self.fc3 = nn.Linear(84, output_size)\n",
        "\n",
        "    def forward(self, X):\n",
        "        X = F.relu(self.fc1(X))\n",
        "        X = F.relu(self.fc2(X))\n",
        "        X = self.fc3(X)\n",
        "\n",
        "        return F.log_softmax(X, dim=1)"
      ],
      "metadata": {
        "id": "Yfcwx4KRrLDZ"
      },
      "id": "Yfcwx4KRrLDZ",
      "execution_count": 10,
      "outputs": []
    },
    {
      "cell_type": "code",
      "source": [
        "#creating a variable \"artificial_nn\" to call ANN() class\n",
        "torch.manual_seed(80)\n",
        "ann = ANN()\n",
        "ann"
      ],
      "metadata": {
        "colab": {
          "base_uri": "https://localhost:8080/"
        },
        "id": "LsvPI6gIsSXq",
        "outputId": "86c24ca6-7b10-4ea3-e26f-eb346b53e3cd"
      },
      "id": "LsvPI6gIsSXq",
      "execution_count": 11,
      "outputs": [
        {
          "output_type": "execute_result",
          "data": {
            "text/plain": [
              "ANN(\n",
              "  (fc1): Linear(in_features=3072, out_features=120, bias=True)\n",
              "  (fc2): Linear(in_features=120, out_features=84, bias=True)\n",
              "  (fc3): Linear(in_features=84, out_features=10, bias=True)\n",
              ")"
            ]
          },
          "metadata": {},
          "execution_count": 11
        }
      ]
    },
    {
      "cell_type": "code",
      "source": [
        "#Creation of variable to calculate loss and to specify optimizer for ANN\n",
        "\n",
        "cal_loss = nn.CrossEntropyLoss()\n",
        "optimizer = torch.optim.SGD(ann.parameters(), lr=0.01)"
      ],
      "metadata": {
        "id": "7BRKrCKZsi9L"
      },
      "id": "7BRKrCKZsi9L",
      "execution_count": 12,
      "outputs": []
    },
    {
      "cell_type": "markdown",
      "source": [
        "# ANN Model Training"
      ],
      "metadata": {
        "id": "hyoNhTwNuqcv"
      },
      "id": "hyoNhTwNuqcv"
    },
    {
      "cell_type": "code",
      "source": [
        "#creating empty list to calculate loss during training and to keep track of correct predictions\n",
        "loss_train = []\n",
        "loss_test = []\n",
        "correct_train = []\n",
        "correct_test  = []\n",
        "\n",
        "epochs = 5\n",
        "for i in range(epochs):\n",
        "   \n",
        "    trn_corr = 0\n",
        "    tst_corr = 0\n",
        "    batch_corr = 0\n",
        "    \n",
        "\n",
        "    for batch_iter, (X_train, y_train) in enumerate(train_loader):\n",
        "      batch_iter +=1\n",
        "\n",
        "      y_pred = ann(X_train.view(100, -1))\n",
        "      loss = cal_loss(y_pred, y_train)\n",
        "      \n",
        "      predicted = torch.max(y_pred.data, 1)[1]\n",
        "      batch_corr = (predicted == y_train).sum()\n",
        "      trn_corr += batch_corr\n",
        "      \n",
        "      \n",
        "      optimizer.zero_grad()\n",
        "      loss.backward()\n",
        "      optimizer.step()\n",
        "\n",
        "      if batch_iter % 100 == 0:\n",
        "        \n",
        "        accuracy = trn_corr.item()*100 / (100*batch_iter)\n",
        "        print( f'epoch: {i} batch {batch_iter} loss:{loss.item()} accuracy:{accuracy} ')\n",
        "    \n",
        "    loss_train.append(loss)\n",
        "    correct_train.append(trn_corr)\n",
        "\n",
        "    with torch.no_grad():\n",
        "      \n",
        "      for batch_iter, (X_test, y_test) in enumerate(test_loader):\n",
        "        \n",
        "        y_val = ann(X_test.view(500, -1))\n",
        "        \n",
        "        predicted = torch.max(y_val.data, 1)[1]\n",
        "        tst_corr += (predicted == y_test).sum()\n",
        "     \n",
        "    loss = cal_loss(y_val,y_test)\n",
        "    loss_test.append(loss)\n",
        "    correct_test.append(tst_corr)\n",
        "\n"
      ],
      "metadata": {
        "colab": {
          "base_uri": "https://localhost:8080/"
        },
        "id": "URrSoYgCuauc",
        "outputId": "c7c4608c-9fa0-4dad-e645-0d94a4919b3f"
      },
      "id": "URrSoYgCuauc",
      "execution_count": 13,
      "outputs": [
        {
          "output_type": "stream",
          "name": "stdout",
          "text": [
            "epoch: 0 batch 100 loss:2.2378265857696533 accuracy:18.01 \n",
            "epoch: 0 batch 200 loss:2.1911234855651855 accuracy:21.495 \n",
            "epoch: 0 batch 300 loss:2.0789241790771484 accuracy:23.59 \n",
            "epoch: 0 batch 400 loss:1.9868152141571045 accuracy:24.99 \n",
            "epoch: 0 batch 500 loss:1.9544250965118408 accuracy:26.14 \n",
            "epoch: 1 batch 100 loss:1.9703329801559448 accuracy:33.72 \n",
            "epoch: 1 batch 200 loss:1.708509087562561 accuracy:33.89 \n",
            "epoch: 1 batch 300 loss:1.7958762645721436 accuracy:34.156666666666666 \n",
            "epoch: 1 batch 400 loss:1.7531911134719849 accuracy:34.445 \n",
            "epoch: 1 batch 500 loss:1.6724876165390015 accuracy:34.93 \n",
            "epoch: 2 batch 100 loss:1.7133183479309082 accuracy:36.89 \n",
            "epoch: 2 batch 200 loss:1.7739472389221191 accuracy:37.74 \n",
            "epoch: 2 batch 300 loss:1.7772669792175293 accuracy:38.233333333333334 \n",
            "epoch: 2 batch 400 loss:1.7329734563827515 accuracy:38.5075 \n",
            "epoch: 2 batch 500 loss:1.5762051343917847 accuracy:38.83 \n",
            "epoch: 3 batch 100 loss:1.6748138666152954 accuracy:41.45 \n",
            "epoch: 3 batch 200 loss:1.7363743782043457 accuracy:41.41 \n",
            "epoch: 3 batch 300 loss:1.7445346117019653 accuracy:41.266666666666666 \n",
            "epoch: 3 batch 400 loss:1.657301902770996 accuracy:41.3775 \n",
            "epoch: 3 batch 500 loss:1.6806148290634155 accuracy:41.446 \n",
            "epoch: 4 batch 100 loss:1.5398399829864502 accuracy:42.91 \n",
            "epoch: 4 batch 200 loss:1.6578283309936523 accuracy:42.77 \n",
            "epoch: 4 batch 300 loss:1.497923731803894 accuracy:43.053333333333335 \n",
            "epoch: 4 batch 400 loss:1.6404366493225098 accuracy:43.1125 \n",
            "epoch: 4 batch 500 loss:1.5484580993652344 accuracy:43.134 \n"
          ]
        }
      ]
    },
    {
      "cell_type": "markdown",
      "source": [
        "# ANN Model Testing"
      ],
      "metadata": {
        "id": "-bpy55R6sS8a"
      },
      "id": "-bpy55R6sS8a"
    },
    {
      "cell_type": "code",
      "source": [
        "#Loading all 10000 test images at once for prediction\n",
        "load_testdata = DataLoader(test_set, batch_size=10000, shuffle=False)\n",
        "\n",
        "with torch.no_grad():\n",
        "  correct = 0\n",
        "  for X_test, y_test in load_testdata: \n",
        "    y_val = ann(X_test.view(len(X_test),-1))\n",
        "    predicted = torch.max(y_val,1)[1]\n",
        "    correct = correct + (predicted == y_test).sum()\n",
        "    accuracy_ann = 100 * correct.item()/len(test_set)\n",
        "print(f'Accuracy on test set by ANN: {accuracy_ann}')"
      ],
      "metadata": {
        "colab": {
          "base_uri": "https://localhost:8080/"
        },
        "id": "4vk78l6z0XBk",
        "outputId": "2c6be5b1-5b78-4524-b2b7-8e4ffd112eee"
      },
      "id": "4vk78l6z0XBk",
      "execution_count": 14,
      "outputs": [
        {
          "output_type": "stream",
          "name": "stdout",
          "text": [
            "Accuracy on test set by ANN: 43.9\n"
          ]
        }
      ]
    },
    {
      "cell_type": "markdown",
      "source": [
        "# Building CNN Model"
      ],
      "metadata": {
        "id": "EIwHYxtMGbVM"
      },
      "id": "EIwHYxtMGbVM"
    },
    {
      "cell_type": "code",
      "source": [
        "# define the CNN architecture\n",
        "class CNN(nn.Module):\n",
        "    def __init__(self):\n",
        "        super(CNN, self).__init__()\n",
        "        # convolutional layer\n",
        "        self.conv1 = nn.Conv2d(3, 16, 3, padding=1)\n",
        "        self.conv2 = nn.Conv2d(16, 32, 3, padding=1)\n",
        "        self.conv3 = nn.Conv2d(32, 64, 3, padding=1)\n",
        "        # max pooling layer\n",
        "        self.pool = nn.MaxPool2d(2, 2)\n",
        "        # fully connected layers\n",
        "        self.fc1 = nn.Linear(64 * 4 * 4, 512)\n",
        "        self.fc2 = nn.Linear(512, 64)\n",
        "        self.fc3 = nn.Linear(64, 10)\n",
        "        # dropout\n",
        "        self.dropout = nn.Dropout(p=.5)\n",
        "\n",
        "    def forward(self, x):\n",
        "        # add sequence of convolutional and max pooling layers\n",
        "        x = self.pool(F.relu(self.conv1(x)))\n",
        "        x = self.pool(F.relu(self.conv2(x)))\n",
        "        x = self.pool(F.relu(self.conv3(x)))\n",
        "        # flattening\n",
        "        x = x.view(-1, 64 * 4 * 4)\n",
        "        # fully connected layers\n",
        "        x = self.dropout(F.relu(self.fc1(x)))\n",
        "        x = self.dropout(F.relu(self.fc2(x)))\n",
        "        x = self.fc3(x)\n",
        "        return x\n",
        "\n",
        "# create a variable \"cnn\" for CNN() class\n",
        "cnn = CNN()\n",
        "cnn"
      ],
      "metadata": {
        "colab": {
          "base_uri": "https://localhost:8080/"
        },
        "id": "5-_A6iG1GfjU",
        "outputId": "9df8da30-d1f4-48f4-a187-34a8fae96643"
      },
      "id": "5-_A6iG1GfjU",
      "execution_count": 15,
      "outputs": [
        {
          "output_type": "execute_result",
          "data": {
            "text/plain": [
              "CNN(\n",
              "  (conv1): Conv2d(3, 16, kernel_size=(3, 3), stride=(1, 1), padding=(1, 1))\n",
              "  (conv2): Conv2d(16, 32, kernel_size=(3, 3), stride=(1, 1), padding=(1, 1))\n",
              "  (conv3): Conv2d(32, 64, kernel_size=(3, 3), stride=(1, 1), padding=(1, 1))\n",
              "  (pool): MaxPool2d(kernel_size=2, stride=2, padding=0, dilation=1, ceil_mode=False)\n",
              "  (fc1): Linear(in_features=1024, out_features=512, bias=True)\n",
              "  (fc2): Linear(in_features=512, out_features=64, bias=True)\n",
              "  (fc3): Linear(in_features=64, out_features=10, bias=True)\n",
              "  (dropout): Dropout(p=0.5, inplace=False)\n",
              ")"
            ]
          },
          "metadata": {},
          "execution_count": 15
        }
      ]
    },
    {
      "cell_type": "code",
      "source": [
        "#Creation of variable to calculate loss and to specify optimizer for ANN\n",
        "\n",
        "cal_loss_cnn = nn.CrossEntropyLoss()\n",
        "optimizer_cnn = torch.optim.SGD(cnn.parameters(), lr=.001)"
      ],
      "metadata": {
        "id": "cWywnICCMdIa"
      },
      "id": "cWywnICCMdIa",
      "execution_count": 16,
      "outputs": []
    },
    {
      "cell_type": "markdown",
      "source": [
        "# CNN Model Training"
      ],
      "metadata": {
        "id": "-rUf0iinGFKN"
      },
      "id": "-rUf0iinGFKN"
    },
    {
      "cell_type": "code",
      "source": [
        "# number of epochs to train the model\n",
        "n_epochs = [*range(30)]\n",
        "#List to store loss to visualize\n",
        "train_losslist = []\n",
        "valid_losslist = []\n",
        "valid_loss_min = np.Inf # track change in validation loss\n",
        "\n",
        "for epoch in n_epochs:\n",
        "\n",
        "    # keeping track of train and validation loss\n",
        "    train_loss = 0.0\n",
        "    valid_loss = 0.0\n",
        "    cnn.train()\n",
        "    for data, target in train_loader_cnn:\n",
        "        # clearing gradient\n",
        "        optimizer_cnn.zero_grad()\n",
        "        output = cnn(data)\n",
        "        loss = cal_loss_cnn(output, target)\n",
        "        loss.backward()\n",
        "        optimizer_cnn.step()\n",
        "        train_loss = train_loss + loss.item()*data.size(0)\n",
        "    cnn.eval()\n",
        "    for data, target in valid_loader_cnn:\n",
        "        output = cnn(data)\n",
        "        loss = cal_loss_cnn(output, target)\n",
        "        valid_loss = valid_loss + loss.item()*data.size(0)\n",
        "    \n",
        "    # calculate average losses\n",
        "    train_loss = train_loss/len(train_loader_cnn.dataset)\n",
        "    valid_loss = valid_loss/len(valid_loader_cnn.dataset)\n",
        "    train_losslist.append(train_loss)\n",
        "    valid_losslist.append(valid_loss)\n",
        "        \n",
        "    # print training/validation statistics \n",
        "    print('Epoch: {} \\tTraining Loss: {:.6f} \\tValidation Loss: {:.6f}'.format(epoch, train_loss, valid_loss))\n",
        "\n",
        "plt.plot(n_epochs, train_losslist)\n",
        "plt.xlabel(\"Epoch\")\n",
        "plt.ylabel(\"Loss\")\n",
        "plt.title(\"Performance of Model\")\n",
        "plt.show()"
      ],
      "metadata": {
        "colab": {
          "base_uri": "https://localhost:8080/",
          "height": 805
        },
        "id": "pUGNWDbRGJsA",
        "outputId": "360e7cad-713f-498a-d6b1-542a217cfe83"
      },
      "id": "pUGNWDbRGJsA",
      "execution_count": 17,
      "outputs": [
        {
          "output_type": "stream",
          "name": "stdout",
          "text": [
            "Epoch: 0 \tTraining Loss: 1.844081 \tValidation Loss: 0.460762\n",
            "Epoch: 1 \tTraining Loss: 1.842865 \tValidation Loss: 0.460518\n",
            "Epoch: 2 \tTraining Loss: 1.841891 \tValidation Loss: 0.460275\n",
            "Epoch: 3 \tTraining Loss: 1.840880 \tValidation Loss: 0.460000\n",
            "Epoch: 4 \tTraining Loss: 1.839630 \tValidation Loss: 0.459636\n",
            "Epoch: 5 \tTraining Loss: 1.837886 \tValidation Loss: 0.459056\n",
            "Epoch: 6 \tTraining Loss: 1.835159 \tValidation Loss: 0.458009\n",
            "Epoch: 7 \tTraining Loss: 1.829199 \tValidation Loss: 0.455566\n",
            "Epoch: 8 \tTraining Loss: 1.814076 \tValidation Loss: 0.448615\n",
            "Epoch: 9 \tTraining Loss: 1.779276 \tValidation Loss: 0.434051\n",
            "Epoch: 10 \tTraining Loss: 1.738838 \tValidation Loss: 0.422447\n",
            "Epoch: 11 \tTraining Loss: 1.702912 \tValidation Loss: 0.412219\n",
            "Epoch: 12 \tTraining Loss: 1.662938 \tValidation Loss: 0.401526\n",
            "Epoch: 13 \tTraining Loss: 1.626135 \tValidation Loss: 0.392390\n",
            "Epoch: 14 \tTraining Loss: 1.598227 \tValidation Loss: 0.384828\n",
            "Epoch: 15 \tTraining Loss: 1.570732 \tValidation Loss: 0.377000\n",
            "Epoch: 16 \tTraining Loss: 1.538331 \tValidation Loss: 0.368214\n",
            "Epoch: 17 \tTraining Loss: 1.506582 \tValidation Loss: 0.359585\n",
            "Epoch: 18 \tTraining Loss: 1.474740 \tValidation Loss: 0.350964\n",
            "Epoch: 19 \tTraining Loss: 1.445948 \tValidation Loss: 0.344906\n",
            "Epoch: 20 \tTraining Loss: 1.420043 \tValidation Loss: 0.340820\n",
            "Epoch: 21 \tTraining Loss: 1.399069 \tValidation Loss: 0.334216\n",
            "Epoch: 22 \tTraining Loss: 1.377227 \tValidation Loss: 0.326701\n",
            "Epoch: 23 \tTraining Loss: 1.359167 \tValidation Loss: 0.323802\n",
            "Epoch: 24 \tTraining Loss: 1.343201 \tValidation Loss: 0.318271\n",
            "Epoch: 25 \tTraining Loss: 1.330108 \tValidation Loss: 0.314822\n",
            "Epoch: 26 \tTraining Loss: 1.315332 \tValidation Loss: 0.316318\n",
            "Epoch: 27 \tTraining Loss: 1.299043 \tValidation Loss: 0.307555\n",
            "Epoch: 28 \tTraining Loss: 1.290168 \tValidation Loss: 0.308173\n",
            "Epoch: 29 \tTraining Loss: 1.276175 \tValidation Loss: 0.301495\n"
          ]
        },
        {
          "output_type": "display_data",
          "data": {
            "image/png": "[encoded data removed]",
            "text/plain": [
              "<Figure size 432x288 with 1 Axes>"
            ]
          },
          "metadata": {
            "needs_background": "light"
          }
        }
      ]
    },
    {
      "cell_type": "markdown",
      "source": [
        "# CNN Model Testing"
      ],
      "metadata": {
        "id": "nwNNWObsF5Tl"
      },
      "id": "nwNNWObsF5Tl"
    },
    {
      "cell_type": "code",
      "source": [
        "class_correct = list(0. for i in range(10))\n",
        "class_total = list(0. for i in range(10))\n",
        "# testing on test data\n",
        "cnn.eval()\n",
        "for data, target in test_loader_cnn:\n",
        "    output = cnn(data)\n",
        "    _, pred = torch.max(output, 1)    \n",
        "    # comparing true label with predictions\n",
        "    correct_tensor = pred.eq(target.data.view_as(pred))\n",
        "    correct = np.squeeze(correct_tensor.numpy())\n",
        "    # calculating accuracy\n",
        "    batch_size = 20\n",
        "    for i in range(batch_size):\n",
        "        label = target.data[i]\n",
        "        class_correct[label] = class_correct[label] + correct[i].item()\n",
        "        class_total[label] = class_total[label] + 1\n",
        "accuracy_cnn = 100 * np.sum(class_correct) / np.sum(class_total)\n",
        "print(f'\\nAccuracy on test set by CNN: {accuracy_cnn}%')"
      ],
      "metadata": {
        "id": "Q1M1LCmhtwH3",
        "colab": {
          "base_uri": "https://localhost:8080/"
        },
        "outputId": "c744baf1-cf4f-48fb-8c01-182925f1a96e"
      },
      "id": "Q1M1LCmhtwH3",
      "execution_count": 18,
      "outputs": [
        {
          "output_type": "stream",
          "name": "stdout",
          "text": [
            "\n",
            "Accuracy on test set by CNN: 75.0%\n"
          ]
        }
      ]
    },
    {
      "cell_type": "code",
      "source": [
        ""
      ],
      "metadata": {
        "id": "re2nBj5yJIZ4"
      },
      "id": "re2nBj5yJIZ4",
      "execution_count": 18,
      "outputs": []
    }
  ],
  "metadata": {
    "kernelspec": {
      "display_name": "Python 3 (ipykernel)",
      "language": "python",
      "name": "python3"
    },
    "language_info": {
      "codemirror_mode": {
        "name": "ipython",
        "version": 3
      },
      "file_extension": ".py",
      "mimetype": "text/x-python",
      "name": "python",
      "nbconvert_exporter": "python",
      "pygments_lexer": "ipython3",
      "version": "3.8.6"
    },
    "colab": {
      "name": "INM 702 Task 4.ipynb",
      "provenance": [],
      "collapsed_sections": []
    }
  },
  "nbformat": 4,
  "nbformat_minor": 5
}