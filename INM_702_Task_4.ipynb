{
  "cells": [
    {
      "cell_type": "code",
      "source": [
        "#Importing Libraries\n",
        "import torch\n",
        "import torchvision\n",
        "import numpy as np\n",
        "import matplotlib.pyplot as plt\n",
        "import torch.nn as nn\n",
        "import torch.nn.functional as F\n",
        "from torchvision import datasets\n",
        "from torchvision.datasets import CIFAR10\n",
        "import torchvision.transforms as transforms\n",
        "from torchvision.transforms import ToTensor\n",
        "from torch.utils.data.sampler import SubsetRandomSampler\n",
        "from torchvision.utils import make_grid\n",
        "from torch.utils.data.dataloader import DataLoader\n",
        "from torch.utils.data import random_split\n",
        "%matplotlib inline"
      ],
      "metadata": {
        "id": "sRdjOYGV_cb-"
      },
      "id": "sRdjOYGV_cb-",
      "execution_count": 1,
      "outputs": []
    },
    {
      "cell_type": "code",
      "source": [
        "#Importaing Dataset\n",
        "transform = transforms.Compose([transforms.ToTensor(), transforms.Normalize((0.5, 0.5, 0.5), (0.5, 0.5, 0.5))])\n",
        "\n",
        "train_set = CIFAR10(root='data/', download=True, transform=transform)\n",
        "test_set = CIFAR10(root='data/', train=False, transform=transform)"
      ],
      "metadata": {
        "colab": {
          "base_uri": "https://localhost:8080/",
          "height": 83,
          "referenced_widgets": [
            "9a798ffca0474a99a037e4e5ea45317f",
            "2b3a5aedd1af4df7a4ef96e2f5f223dc",
            "5086d9d2edeb422c8402d60d1ea1e70d",
            "1ca3d1336fe4465ca9c5efb13071d2ac",
            "03e060b4c1b64e8e892082c2cfda8589",
            "b2bb2a3a901e476ba2bb93664513352d",
            "03694965476e4ce9a894239f19dafecf",
            "99f94f6e7ea446d2b457eab11575b39a",
            "5ebd2c0c05d2424da13b2a691507f11b",
            "215f34e0613149188d459420ef179d1f",
            "f5ca184b0fdb40139c458ef80f4584c4"
          ]
        },
        "id": "PaxEDpk-Mbq3",
        "outputId": "97a912fb-3389-4a2a-e5b3-470e14c3134a"
      },
      "id": "PaxEDpk-Mbq3",
      "execution_count": 2,
      "outputs": [
        {
          "output_type": "stream",
          "name": "stdout",
          "text": [
            "Downloading https://www.cs.toronto.edu/~kriz/cifar-10-python.tar.gz to data/cifar-10-python.tar.gz\n"
          ]
        },
        {
          "output_type": "display_data",
          "data": {
            "application/vnd.jupyter.widget-view+json": {
              "model_id": "9a798ffca0474a99a037e4e5ea45317f",
              "version_minor": 0,
              "version_major": 2
            },
            "text/plain": [
              "  0%|          | 0/170498071 [00:00<?, ?it/s]"
            ]
          },
          "metadata": {}
        },
        {
          "output_type": "stream",
          "name": "stdout",
          "text": [
            "Extracting data/cifar-10-python.tar.gz to data/\n"
          ]
        }
      ]
    },
    {
      "cell_type": "markdown",
      "source": [
        "## Data Analysis"
      ],
      "metadata": {
        "id": "pNn2NC9-M1dk"
      },
      "id": "pNn2NC9-M1dk"
    },
    {
      "cell_type": "code",
      "source": [
        "#Inspecting training dataset\n",
        "size_trainset = len(train_set)\n",
        "print(f\"Length of training dataset is {size_trainset}\")\n",
        "\n",
        "#Inspecting testing dataset\n",
        "size_testset = len(test_set)\n",
        "print(f\"Length of testing dataset is {size_testset}\")"
      ],
      "metadata": {
        "colab": {
          "base_uri": "https://localhost:8080/"
        },
        "id": "KNmQxiA8M9es",
        "outputId": "814ce093-0f4d-4b6d-c6dd-2765cd5bfd57"
      },
      "id": "KNmQxiA8M9es",
      "execution_count": 3,
      "outputs": [
        {
          "output_type": "stream",
          "name": "stdout",
          "text": [
            "Length of training dataset is 50000\n",
            "Length of testing dataset is 10000\n"
          ]
        }
      ]
    },
    {
      "cell_type": "code",
      "source": [
        "#Inspecting output classes\n",
        "classes = train_set.classes\n",
        "classes"
      ],
      "metadata": {
        "id": "D-E80gLjNXmq",
        "colab": {
          "base_uri": "https://localhost:8080/"
        },
        "outputId": "5af44c60-9bf0-4f18-d7e2-cf53111ad4bf"
      },
      "id": "D-E80gLjNXmq",
      "execution_count": 4,
      "outputs": [
        {
          "output_type": "execute_result",
          "data": {
            "text/plain": [
              "['airplane',\n",
              " 'automobile',\n",
              " 'bird',\n",
              " 'cat',\n",
              " 'deer',\n",
              " 'dog',\n",
              " 'frog',\n",
              " 'horse',\n",
              " 'ship',\n",
              " 'truck']"
            ]
          },
          "metadata": {},
          "execution_count": 4
        }
      ]
    },
    {
      "cell_type": "code",
      "source": [
        "total_classes = len(classes)\n",
        "print(f\"Total number of output classes are {total_classes} \")"
      ],
      "metadata": {
        "colab": {
          "base_uri": "https://localhost:8080/"
        },
        "id": "5HEugNqsO3D9",
        "outputId": "cef550d2-109e-4e94-85e5-e8a17265cf8b"
      },
      "id": "5HEugNqsO3D9",
      "execution_count": 5,
      "outputs": [
        {
          "output_type": "stream",
          "name": "stdout",
          "text": [
            "Total number of output classes are 10 \n"
          ]
        }
      ]
    },
    {
      "cell_type": "code",
      "source": [
        "#Identifying shape of image tensor\n",
        "image, label = train_set[0]\n",
        "image_shape = image.shape\n",
        "image_shape"
      ],
      "metadata": {
        "colab": {
          "base_uri": "https://localhost:8080/"
        },
        "id": "Q0_eDnTwPQr3",
        "outputId": "e93cdfd1-efdf-4446-e62b-4c7449caab98"
      },
      "id": "Q0_eDnTwPQr3",
      "execution_count": 6,
      "outputs": [
        {
          "output_type": "execute_result",
          "data": {
            "text/plain": [
              "torch.Size([3, 32, 32])"
            ]
          },
          "metadata": {},
          "execution_count": 6
        }
      ]
    },
    {
      "cell_type": "code",
      "source": [
        "#As imshow expects images to be structured as (rows, columns, channels) values for RGB data\n",
        "#We will rearrange original image tensor according to the desired ordering \n",
        "image, label = train_set[6]\n",
        "plt.imshow(image.permute((1, 2, 0)))\n",
        "print('Label id:', label)\n",
        "print('Label (corresponding text):', classes[label])"
      ],
      "metadata": {
        "colab": {
          "base_uri": "https://localhost:8080/",
          "height": 317
        },
        "id": "_E_eSLVkQkZU",
        "outputId": "59a0b72d-52e6-4ba6-d04e-c8b0d8bd56d6"
      },
      "id": "_E_eSLVkQkZU",
      "execution_count": 7,
      "outputs": [
        {
          "output_type": "stream",
          "name": "stderr",
          "text": [
            "Clipping input data to the valid range for imshow with RGB data ([0..1] for floats or [0..255] for integers).\n"
          ]
        },
        {
          "output_type": "stream",
          "name": "stdout",
          "text": [
            "Label id: 2\n",
            "Label (corresponding text): bird\n"
          ]
        },
        {
          "output_type": "display_data",
          "data": {
            "image/png": "[encoded data removed]",
            "text/plain": [
              "<Figure size 432x288 with 1 Axes>"
            ]
          },
          "metadata": {
            "needs_background": "light"
          }
        }
      ]
    },
    {
      "cell_type": "markdown",
      "source": [
        "## Preparing data for processing"
      ],
      "metadata": {
        "id": "WBgeNVDxIzqt"
      },
      "id": "WBgeNVDxIzqt"
    },
    {
      "cell_type": "code",
      "source": [
        "# percentage of training set to use as validation\n",
        "size_val = 0.2\n",
        "\n",
        "# obtain training indices that will be used for validation\n",
        "size_trainset = len(train_set)\n",
        "indices = list(range(size_trainset))\n",
        "np.random.shuffle(indices)\n",
        "split = int(np.floor(size_val * size_trainset))\n",
        "train_idx, valid_idx = indices[split:], indices[:split]\n",
        "\n",
        "# define samplers for obtaining training and validation batches\n",
        "train_sampler = SubsetRandomSampler(train_idx)\n",
        "valid_sampler = SubsetRandomSampler(valid_idx)\n",
        "\n",
        "#loading training data for cnn in batches using DataLoader\n",
        "train_loader_cnn = torch.utils.data.DataLoader(train_set, batch_size=20, sampler=train_sampler, num_workers=0)\n",
        "valid_loader_cnn = torch.utils.data.DataLoader(train_set, batch_size=20, sampler=valid_sampler, num_workers=0)\n",
        "test_loader_cnn = torch.utils.data.DataLoader(test_set, batch_size=10000, num_workers=0)"
      ],
      "metadata": {
        "id": "RFaPusM7I-sY"
      },
      "id": "RFaPusM7I-sY",
      "execution_count": 8,
      "outputs": []
    },
    {
      "cell_type": "code",
      "source": [
        "#loading training data for ann in batches using DataLoader\n",
        "#setting seed to 80 for generating random numbers\n",
        "torch.manual_seed(80)\n",
        "train_loader = DataLoader(train_set, batch_size=100, shuffle=True)\n",
        "test_loader = DataLoader(test_set, batch_size=500, shuffle=False)"
      ],
      "metadata": {
        "id": "CT_CgZGiRLJq"
      },
      "id": "CT_CgZGiRLJq",
      "execution_count": 9,
      "outputs": []
    },
    {
      "cell_type": "markdown",
      "source": [
        "# Building ANN Model\n"
      ],
      "metadata": {
        "id": "cq7xMC8ErSnr"
      },
      "id": "cq7xMC8ErSnr"
    },
    {
      "cell_type": "code",
      "source": [
        "class ANN(nn.Module):\n",
        "    #We need to flatten the input size before feeding it to neural network\n",
        "    def __init__(self, input_size=3*32*32, output_size=10):\n",
        "        super().__init__()\n",
        "        self._to_linear = None    \n",
        "        self.fc1 = nn.Linear(input_size, 120)\n",
        "        self.fc2 = nn.Linear(120, 84)\n",
        "        self.fc3 = nn.Linear(84, output_size)\n",
        "\n",
        "    def forward(self, X):\n",
        "        X = F.relu(self.fc1(X))\n",
        "        X = F.relu(self.fc2(X))\n",
        "        X = self.fc3(X)\n",
        "\n",
        "        return F.log_softmax(X, dim=1)"
      ],
      "metadata": {
        "id": "Yfcwx4KRrLDZ"
      },
      "id": "Yfcwx4KRrLDZ",
      "execution_count": 10,
      "outputs": []
    },
    {
      "cell_type": "code",
      "source": [
        "#creating a variable \"artificial_nn\" to call ANN() class\n",
        "torch.manual_seed(80)\n",
        "ann = ANN()\n",
        "ann"
      ],
      "metadata": {
        "colab": {
          "base_uri": "https://localhost:8080/"
        },
        "id": "LsvPI6gIsSXq",
        "outputId": "84e381f2-2e96-4dcb-afd6-187853f6d4f2"
      },
      "id": "LsvPI6gIsSXq",
      "execution_count": 11,
      "outputs": [
        {
          "output_type": "execute_result",
          "data": {
            "text/plain": [
              "ANN(\n",
              "  (fc1): Linear(in_features=3072, out_features=120, bias=True)\n",
              "  (fc2): Linear(in_features=120, out_features=84, bias=True)\n",
              "  (fc3): Linear(in_features=84, out_features=10, bias=True)\n",
              ")"
            ]
          },
          "metadata": {},
          "execution_count": 11
        }
      ]
    },
    {
      "cell_type": "code",
      "source": [
        "#Creation of variable to calculate loss and to specify optimizer for ANN\n",
        "\n",
        "cal_loss = nn.CrossEntropyLoss()\n",
        "optimizer = torch.optim.SGD(ann.parameters(), lr=0.01)"
      ],
      "metadata": {
        "id": "7BRKrCKZsi9L"
      },
      "id": "7BRKrCKZsi9L",
      "execution_count": 12,
      "outputs": []
    },
    {
      "cell_type": "markdown",
      "source": [
        "# ANN Model Training"
      ],
      "metadata": {
        "id": "hyoNhTwNuqcv"
      },
      "id": "hyoNhTwNuqcv"
    },
    {
      "cell_type": "code",
      "source": [
        "#creating empty list to calculate loss during training and to keep track of correct predictions\n",
        "loss_train = []\n",
        "loss_test = []\n",
        "correct_train = []\n",
        "correct_test  = []\n",
        "\n",
        "epochs = 5\n",
        "for i in range(epochs):\n",
        "   \n",
        "    trn_corr = 0\n",
        "    tst_corr = 0\n",
        "    batch_corr = 0\n",
        "    \n",
        "\n",
        "    for batch_iter, (X_train, y_train) in enumerate(train_loader):\n",
        "      batch_iter +=1\n",
        "\n",
        "      y_pred = ann(X_train.view(100, -1))\n",
        "      loss = cal_loss(y_pred, y_train)\n",
        "      \n",
        "      predicted = torch.max(y_pred.data, 1)[1]\n",
        "      batch_corr = (predicted == y_train).sum()\n",
        "      trn_corr += batch_corr\n",
        "      \n",
        "      \n",
        "      optimizer.zero_grad()\n",
        "      loss.backward()\n",
        "      optimizer.step()\n",
        "\n",
        "      if batch_iter % 100 == 0:\n",
        "        \n",
        "        accuracy = trn_corr.item()*100 / (100*batch_iter)\n",
        "        print( f'epoch: {i} batch {batch_iter} loss:{loss.item()} accuracy:{accuracy} ')\n",
        "    \n",
        "    loss_train.append(loss)\n",
        "    correct_train.append(trn_corr)\n",
        "\n",
        "    with torch.no_grad():\n",
        "      \n",
        "      for batch_iter, (X_test, y_test) in enumerate(test_loader):\n",
        "        \n",
        "        y_val = ann(X_test.view(500, -1))\n",
        "        \n",
        "        predicted = torch.max(y_val.data, 1)[1]\n",
        "        tst_corr += (predicted == y_test).sum()\n",
        "     \n",
        "    loss = cal_loss(y_val,y_test)\n",
        "    loss_test.append(loss)\n",
        "    correct_test.append(tst_corr)\n",
        "\n"
      ],
      "metadata": {
        "colab": {
          "base_uri": "https://localhost:8080/"
        },
        "id": "URrSoYgCuauc",
        "outputId": "31f02168-472c-4d01-c87c-ce269bb9a7bd"
      },
      "id": "URrSoYgCuauc",
      "execution_count": 13,
      "outputs": [
        {
          "output_type": "stream",
          "name": "stdout",
          "text": [
            "epoch: 0 batch 100 loss:2.2378265857696533 accuracy:18.01 \n",
            "epoch: 0 batch 200 loss:2.1911234855651855 accuracy:21.495 \n",
            "epoch: 0 batch 300 loss:2.0789241790771484 accuracy:23.59 \n",
            "epoch: 0 batch 400 loss:1.9868152141571045 accuracy:24.99 \n",
            "epoch: 0 batch 500 loss:1.9544250965118408 accuracy:26.14 \n",
            "epoch: 1 batch 100 loss:1.9703329801559448 accuracy:33.72 \n",
            "epoch: 1 batch 200 loss:1.708509087562561 accuracy:33.89 \n",
            "epoch: 1 batch 300 loss:1.7958762645721436 accuracy:34.156666666666666 \n",
            "epoch: 1 batch 400 loss:1.7531911134719849 accuracy:34.445 \n",
            "epoch: 1 batch 500 loss:1.6724876165390015 accuracy:34.93 \n",
            "epoch: 2 batch 100 loss:1.7133183479309082 accuracy:36.89 \n",
            "epoch: 2 batch 200 loss:1.7739472389221191 accuracy:37.74 \n",
            "epoch: 2 batch 300 loss:1.7772669792175293 accuracy:38.233333333333334 \n",
            "epoch: 2 batch 400 loss:1.7329734563827515 accuracy:38.5075 \n",
            "epoch: 2 batch 500 loss:1.5762051343917847 accuracy:38.83 \n",
            "epoch: 3 batch 100 loss:1.6748138666152954 accuracy:41.45 \n",
            "epoch: 3 batch 200 loss:1.7363743782043457 accuracy:41.41 \n",
            "epoch: 3 batch 300 loss:1.7445346117019653 accuracy:41.266666666666666 \n",
            "epoch: 3 batch 400 loss:1.657301902770996 accuracy:41.3775 \n",
            "epoch: 3 batch 500 loss:1.6806148290634155 accuracy:41.446 \n",
            "epoch: 4 batch 100 loss:1.5398399829864502 accuracy:42.91 \n",
            "epoch: 4 batch 200 loss:1.6578283309936523 accuracy:42.77 \n",
            "epoch: 4 batch 300 loss:1.497923731803894 accuracy:43.053333333333335 \n",
            "epoch: 4 batch 400 loss:1.6404366493225098 accuracy:43.1125 \n",
            "epoch: 4 batch 500 loss:1.5484580993652344 accuracy:43.134 \n"
          ]
        }
      ]
    },
    {
      "cell_type": "markdown",
      "source": [
        "# ANN Model Testing"
      ],
      "metadata": {
        "id": "-bpy55R6sS8a"
      },
      "id": "-bpy55R6sS8a"
    },
    {
      "cell_type": "code",
      "source": [
        "#Loading all 10000 test images at once for prediction\n",
        "load_testdata = DataLoader(test_set, batch_size=10000, shuffle=False)\n",
        "\n",
        "with torch.no_grad():\n",
        "  correct = 0\n",
        "  for X_test, y_test in load_testdata: \n",
        "    y_val = ann(X_test.view(len(X_test),-1))\n",
        "    predicted = torch.max(y_val,1)[1]\n",
        "    correct = correct + (predicted == y_test).sum()\n",
        "    accuracy_ann = 100 * correct.item()/len(test_set)\n",
        "print(f'Accuracy on test set by ANN: {accuracy_ann}')"
      ],
      "metadata": {
        "colab": {
          "base_uri": "https://localhost:8080/"
        },
        "id": "4vk78l6z0XBk",
        "outputId": "9f975eea-509a-4814-edba-8db3b109fddc"
      },
      "id": "4vk78l6z0XBk",
      "execution_count": 14,
      "outputs": [
        {
          "output_type": "stream",
          "name": "stdout",
          "text": [
            "Accuracy on test set by ANN: 43.9\n"
          ]
        }
      ]
    },
    {
      "cell_type": "markdown",
      "source": [
        "# Building CNN Model"
      ],
      "metadata": {
        "id": "EIwHYxtMGbVM"
      },
      "id": "EIwHYxtMGbVM"
    },
    {
      "cell_type": "code",
      "source": [
        "class CNN(nn.Module):\n",
        "    def __init__(self):\n",
        "        super(CNN, self).__init__()\n",
        "        self.conv1 = nn.Conv2d(3, 16, 3, padding=1)\n",
        "        self.conv2 = nn.Conv2d(16, 32, 3, padding=1)\n",
        "        self.conv3 = nn.Conv2d(32, 64, 3, padding=1)\n",
        "        # max pooling layer\n",
        "        self.pool = nn.MaxPool2d(2, 2)\n",
        "        # fully connected layers\n",
        "        self.fc1 = nn.Linear(64 * 4 * 4, 512)\n",
        "        self.fc2 = nn.Linear(512, 64)\n",
        "        self.fc3 = nn.Linear(64, 10)\n",
        "        self.dropout = nn.Dropout(p=.5)\n",
        "\n",
        "    def forward(self, x):\n",
        "        x = self.pool(F.relu(self.conv1(x)))\n",
        "        x = self.pool(F.relu(self.conv2(x)))\n",
        "        x = self.pool(F.relu(self.conv3(x)))\n",
        "        # flattening\n",
        "        x = x.view(-1, 64 * 4 * 4)\n",
        "        x = self.dropout(F.relu(self.fc1(x)))\n",
        "        x = self.dropout(F.relu(self.fc2(x)))\n",
        "        x = self.fc3(x)\n",
        "        return x\n",
        "\n",
        "# create a variable \"cnn\" for CNN() class\n",
        "cnn = CNN()\n",
        "cnn"
      ],
      "metadata": {
        "colab": {
          "base_uri": "https://localhost:8080/"
        },
        "id": "5-_A6iG1GfjU",
        "outputId": "92150a79-b0e6-4aeb-8683-01fc215a8a8e"
      },
      "id": "5-_A6iG1GfjU",
      "execution_count": 16,
      "outputs": [
        {
          "output_type": "execute_result",
          "data": {
            "text/plain": [
              "CNN(\n",
              "  (conv1): Conv2d(3, 16, kernel_size=(3, 3), stride=(1, 1), padding=(1, 1))\n",
              "  (conv2): Conv2d(16, 32, kernel_size=(3, 3), stride=(1, 1), padding=(1, 1))\n",
              "  (conv3): Conv2d(32, 64, kernel_size=(3, 3), stride=(1, 1), padding=(1, 1))\n",
              "  (pool): MaxPool2d(kernel_size=2, stride=2, padding=0, dilation=1, ceil_mode=False)\n",
              "  (fc1): Linear(in_features=1024, out_features=512, bias=True)\n",
              "  (fc2): Linear(in_features=512, out_features=64, bias=True)\n",
              "  (fc3): Linear(in_features=64, out_features=10, bias=True)\n",
              "  (dropout): Dropout(p=0.5, inplace=False)\n",
              ")"
            ]
          },
          "metadata": {},
          "execution_count": 16
        }
      ]
    },
    {
      "cell_type": "code",
      "source": [
        ""
      ],
      "metadata": {
        "id": "FkJ555VZ4xRI"
      },
      "id": "FkJ555VZ4xRI",
      "execution_count": null,
      "outputs": []
    }
  ],
  "metadata": {
    "kernelspec": {
      "display_name": "Python 3 (ipykernel)",
      "language": "python",
      "name": "python3"
    },
    "language_info": {
      "codemirror_mode": {
        "name": "ipython",
        "version": 3
      },
      "file_extension": ".py",
      "mimetype": "text/x-python",
      "name": "python",
      "nbconvert_exporter": "python",
      "pygments_lexer": "ipython3",
      "version": "3.8.6"
    },
    "colab": {
      "name": "INM_702_Task 4.ipynb",
      "provenance": [],
      "collapsed_sections": []
    },
    "widgets": {
      "application/vnd.jupyter.widget-state+json": {
        "9a798ffca0474a99a037e4e5ea45317f": {
          "model_module": "@jupyter-widgets/controls",
          "model_name": "HBoxModel",
          "model_module_version": "1.5.0",
          "state": {
            "_view_name": "HBoxView",
            "_dom_classes": [],
            "_model_name": "HBoxModel",
            "_view_module": "@jupyter-widgets/controls",
            "_model_module_version": "1.5.0",
            "_view_count": null,
            "_view_module_version": "1.5.0",
            "box_style": "",
            "layout": "IPY_MODEL_2b3a5aedd1af4df7a4ef96e2f5f223dc",
            "_model_module": "@jupyter-widgets/controls",
            "children": [
              "IPY_MODEL_5086d9d2edeb422c8402d60d1ea1e70d",
              "IPY_MODEL_1ca3d1336fe4465ca9c5efb13071d2ac",
              "IPY_MODEL_03e060b4c1b64e8e892082c2cfda8589"
            ]
          }
        },
        "2b3a5aedd1af4df7a4ef96e2f5f223dc": {
          "model_module": "@jupyter-widgets/base",
          "model_name": "LayoutModel",
          "model_module_version": "1.2.0",
          "state": {
            "_view_name": "LayoutView",
            "grid_template_rows": null,
            "right": null,
            "justify_content": null,
            "_view_module": "@jupyter-widgets/base",
            "overflow": null,
            "_model_module_version": "1.2.0",
            "_view_count": null,
            "flex_flow": null,
            "width": null,
            "min_width": null,
            "border": null,
            "align_items": null,
            "bottom": null,
            "_model_module": "@jupyter-widgets/base",
            "top": null,
            "grid_column": null,
            "overflow_y": null,
            "overflow_x": null,
            "grid_auto_flow": null,
            "grid_area": null,
            "grid_template_columns": null,
            "flex": null,
            "_model_name": "LayoutModel",
            "justify_items": null,
            "grid_row": null,
            "max_height": null,
            "align_content": null,
            "visibility": null,
            "align_self": null,
            "height": null,
            "min_height": null,
            "padding": null,
            "grid_auto_rows": null,
            "grid_gap": null,
            "max_width": null,
            "order": null,
            "_view_module_version": "1.2.0",
            "grid_template_areas": null,
            "object_position": null,
            "object_fit": null,
            "grid_auto_columns": null,
            "margin": null,
            "display": null,
            "left": null
          }
        },
        "5086d9d2edeb422c8402d60d1ea1e70d": {
          "model_module": "@jupyter-widgets/controls",
          "model_name": "HTMLModel",
          "model_module_version": "1.5.0",
          "state": {
            "_view_name": "HTMLView",
            "style": "IPY_MODEL_b2bb2a3a901e476ba2bb93664513352d",
            "_dom_classes": [],
            "description": "",
            "_model_name": "HTMLModel",
            "placeholder": "​",
            "_view_module": "@jupyter-widgets/controls",
            "_model_module_version": "1.5.0",
            "value": "",
            "_view_count": null,
            "_view_module_version": "1.5.0",
            "description_tooltip": null,
            "_model_module": "@jupyter-widgets/controls",
            "layout": "IPY_MODEL_03694965476e4ce9a894239f19dafecf"
          }
        },
        "1ca3d1336fe4465ca9c5efb13071d2ac": {
          "model_module": "@jupyter-widgets/controls",
          "model_name": "FloatProgressModel",
          "model_module_version": "1.5.0",
          "state": {
            "_view_name": "ProgressView",
            "style": "IPY_MODEL_99f94f6e7ea446d2b457eab11575b39a",
            "_dom_classes": [],
            "description": "",
            "_model_name": "FloatProgressModel",
            "bar_style": "success",
            "max": 170498071,
            "_view_module": "@jupyter-widgets/controls",
            "_model_module_version": "1.5.0",
            "value": 170498071,
            "_view_count": null,
            "_view_module_version": "1.5.0",
            "orientation": "horizontal",
            "min": 0,
            "description_tooltip": null,
            "_model_module": "@jupyter-widgets/controls",
            "layout": "IPY_MODEL_5ebd2c0c05d2424da13b2a691507f11b"
          }
        },
        "03e060b4c1b64e8e892082c2cfda8589": {
          "model_module": "@jupyter-widgets/controls",
          "model_name": "HTMLModel",
          "model_module_version": "1.5.0",
          "state": {
            "_view_name": "HTMLView",
            "style": "IPY_MODEL_215f34e0613149188d459420ef179d1f",
            "_dom_classes": [],
            "description": "",
            "_model_name": "HTMLModel",
            "placeholder": "​",
            "_view_module": "@jupyter-widgets/controls",
            "_model_module_version": "1.5.0",
            "value": " 170499072/? [00:04&lt;00:00, 56275688.70it/s]",
            "_view_count": null,
            "_view_module_version": "1.5.0",
            "description_tooltip": null,
            "_model_module": "@jupyter-widgets/controls",
            "layout": "IPY_MODEL_f5ca184b0fdb40139c458ef80f4584c4"
          }
        },
        "b2bb2a3a901e476ba2bb93664513352d": {
          "model_module": "@jupyter-widgets/controls",
          "model_name": "DescriptionStyleModel",
          "model_module_version": "1.5.0",
          "state": {
            "_view_name": "StyleView",
            "_model_name": "DescriptionStyleModel",
            "description_width": "",
            "_view_module": "@jupyter-widgets/base",
            "_model_module_version": "1.5.0",
            "_view_count": null,
            "_view_module_version": "1.2.0",
            "_model_module": "@jupyter-widgets/controls"
          }
        },
        "03694965476e4ce9a894239f19dafecf": {
          "model_module": "@jupyter-widgets/base",
          "model_name": "LayoutModel",
          "model_module_version": "1.2.0",
          "state": {
            "_view_name": "LayoutView",
            "grid_template_rows": null,
            "right": null,
            "justify_content": null,
            "_view_module": "@jupyter-widgets/base",
            "overflow": null,
            "_model_module_version": "1.2.0",
            "_view_count": null,
            "flex_flow": null,
            "width": null,
            "min_width": null,
            "border": null,
            "align_items": null,
            "bottom": null,
            "_model_module": "@jupyter-widgets/base",
            "top": null,
            "grid_column": null,
            "overflow_y": null,
            "overflow_x": null,
            "grid_auto_flow": null,
            "grid_area": null,
            "grid_template_columns": null,
            "flex": null,
            "_model_name": "LayoutModel",
            "justify_items": null,
            "grid_row": null,
            "max_height": null,
            "align_content": null,
            "visibility": null,
            "align_self": null,
            "height": null,
            "min_height": null,
            "padding": null,
            "grid_auto_rows": null,
            "grid_gap": null,
            "max_width": null,
            "order": null,
            "_view_module_version": "1.2.0",
            "grid_template_areas": null,
            "object_position": null,
            "object_fit": null,
            "grid_auto_columns": null,
            "margin": null,
            "display": null,
            "left": null
          }
        },
        "99f94f6e7ea446d2b457eab11575b39a": {
          "model_module": "@jupyter-widgets/controls",
          "model_name": "ProgressStyleModel",
          "model_module_version": "1.5.0",
          "state": {
            "_view_name": "StyleView",
            "_model_name": "ProgressStyleModel",
            "description_width": "",
            "_view_module": "@jupyter-widgets/base",
            "_model_module_version": "1.5.0",
            "_view_count": null,
            "_view_module_version": "1.2.0",
            "bar_color": null,
            "_model_module": "@jupyter-widgets/controls"
          }
        },
        "5ebd2c0c05d2424da13b2a691507f11b": {
          "model_module": "@jupyter-widgets/base",
          "model_name": "LayoutModel",
          "model_module_version": "1.2.0",
          "state": {
            "_view_name": "LayoutView",
            "grid_template_rows": null,
            "right": null,
            "justify_content": null,
            "_view_module": "@jupyter-widgets/base",
            "overflow": null,
            "_model_module_version": "1.2.0",
            "_view_count": null,
            "flex_flow": null,
            "width": null,
            "min_width": null,
            "border": null,
            "align_items": null,
            "bottom": null,
            "_model_module": "@jupyter-widgets/base",
            "top": null,
            "grid_column": null,
            "overflow_y": null,
            "overflow_x": null,
            "grid_auto_flow": null,
            "grid_area": null,
            "grid_template_columns": null,
            "flex": null,
            "_model_name": "LayoutModel",
            "justify_items": null,
            "grid_row": null,
            "max_height": null,
            "align_content": null,
            "visibility": null,
            "align_self": null,
            "height": null,
            "min_height": null,
            "padding": null,
            "grid_auto_rows": null,
            "grid_gap": null,
            "max_width": null,
            "order": null,
            "_view_module_version": "1.2.0",
            "grid_template_areas": null,
            "object_position": null,
            "object_fit": null,
            "grid_auto_columns": null,
            "margin": null,
            "display": null,
            "left": null
          }
        },
        "215f34e0613149188d459420ef179d1f": {
          "model_module": "@jupyter-widgets/controls",
          "model_name": "DescriptionStyleModel",
          "model_module_version": "1.5.0",
          "state": {
            "_view_name": "StyleView",
            "_model_name": "DescriptionStyleModel",
            "description_width": "",
            "_view_module": "@jupyter-widgets/base",
            "_model_module_version": "1.5.0",
            "_view_count": null,
            "_view_module_version": "1.2.0",
            "_model_module": "@jupyter-widgets/controls"
          }
        },
        "f5ca184b0fdb40139c458ef80f4584c4": {
          "model_module": "@jupyter-widgets/base",
          "model_name": "LayoutModel",
          "model_module_version": "1.2.0",
          "state": {
            "_view_name": "LayoutView",
            "grid_template_rows": null,
            "right": null,
            "justify_content": null,
            "_view_module": "@jupyter-widgets/base",
            "overflow": null,
            "_model_module_version": "1.2.0",
            "_view_count": null,
            "flex_flow": null,
            "width": null,
            "min_width": null,
            "border": null,
            "align_items": null,
            "bottom": null,
            "_model_module": "@jupyter-widgets/base",
            "top": null,
            "grid_column": null,
            "overflow_y": null,
            "overflow_x": null,
            "grid_auto_flow": null,
            "grid_area": null,
            "grid_template_columns": null,
            "flex": null,
            "_model_name": "LayoutModel",
            "justify_items": null,
            "grid_row": null,
            "max_height": null,
            "align_content": null,
            "visibility": null,
            "align_self": null,
            "height": null,
            "min_height": null,
            "padding": null,
            "grid_auto_rows": null,
            "grid_gap": null,
            "max_width": null,
            "order": null,
            "_view_module_version": "1.2.0",
            "grid_template_areas": null,
            "object_position": null,
            "object_fit": null,
            "grid_auto_columns": null,
            "margin": null,
            "display": null,
            "left": null
          }
        }
      }
    }
  },
  "nbformat": 4,
  "nbformat_minor": 5
}